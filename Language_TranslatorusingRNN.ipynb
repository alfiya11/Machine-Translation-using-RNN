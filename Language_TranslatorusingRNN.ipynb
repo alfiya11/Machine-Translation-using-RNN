{
  "nbformat": 4,
  "nbformat_minor": 0,
  "metadata": {
    "colab": {
      "provenance": []
    },
    "kernelspec": {
      "name": "python3",
      "display_name": "Python 3"
    },
    "accelerator": "GPU"
  },
  "cells": [
    {
      "cell_type": "markdown",
      "metadata": {
        "id": "L2pukCDIb7yT"
      },
      "source": [
        "#Machine Learning Translation\n",
        "In this project we aim to convert English phrases to French using RNN on Deep Learning Neural Network"
      ]
    },
    {
      "cell_type": "code",
      "metadata": {
        "id": "1wmao4O0cnLS"
      },
      "source": [
        "#Now importing modules\n",
        "import helper   #add logging, make REST API calls, and convert JSON objects to Python dictionaries\n",
        "import numpy as np\n",
        "import tensorflow as tf\n",
        "from keras.preprocessing.text import Tokenizer\n",
        "from keras.utils import pad_sequences\n",
        "from keras.models import Model, Sequential\n",
        "from keras.layers import GRU, Input, Dense, TimeDistributed, Activation, RepeatVector, Bidirectional, Dropout, LSTM\n",
        "from keras.layers import Embedding\n",
        "from keras.optimizers import Adam\n",
        "from keras.losses import sparse_categorical_crossentropy"
      ],
      "execution_count": null,
      "outputs": []
    },
    {
      "cell_type": "markdown",
      "metadata": {
        "id": "Aziw3H_Wcyll"
      },
      "source": [
        "#Load Data\n",
        "The data is located in data/small_vocab_en and data/small_vocab_fr. The small_vocab_en file contains English sentences with their French translations in the small_vocab_fr file. Load the English and French data from these files from running the cell below."
      ]
    },
    {
      "cell_type": "code",
      "metadata": {
        "id": "cboaEhaZcvm3"
      },
      "source": [
        "english_path='https://raw.githubusercontent.com/projjal1/datasets/master/small_vocab_en.txt'\n",
        "french_path='https://raw.githubusercontent.com/projjal1/datasets/master/small_vocab_fr.txt'"
      ],
      "execution_count": null,
      "outputs": []
    },
    {
      "cell_type": "markdown",
      "metadata": {
        "id": "qnOhjwXI1VYO"
      },
      "source": [
        "Load the dataset and split file by lines"
      ]
    },
    {
      "cell_type": "code",
      "metadata": {
        "id": "7ozqkItv1Pd6"
      },
      "source": [
        "import os\n",
        "\n",
        "def load_data(path):\n",
        "  input_file = os.path.join(path)\n",
        "  with open(input_file, \"r\") as f:\n",
        "    data = f.read()\n",
        "\n",
        "  return data.split('\\n')"
      ],
      "execution_count": null,
      "outputs": []
    },
    {
      "cell_type": "code",
      "metadata": {
        "id": "C-jmqlMhdC0H",
        "colab": {
          "base_uri": "https://localhost:8080/"
        },
        "outputId": "e4eeba5d-9ca5-45fe-b1b9-5cb869369e3d"
      },
      "source": [
        "#Using helper to inport dataset\n",
        "english_data=tf.keras.utils.get_file('file1',english_path)\n",
        "french_data=tf.keras.utils.get_file('file2',french_path)"
      ],
      "execution_count": null,
      "outputs": [
        {
          "output_type": "stream",
          "name": "stdout",
          "text": [
            "Downloading data from https://raw.githubusercontent.com/projjal1/datasets/master/small_vocab_en.txt\n",
            "9085266/9085266 [==============================] - 0s 0us/step\n",
            "Downloading data from https://raw.githubusercontent.com/projjal1/datasets/master/small_vocab_fr.txt\n",
            "10135741/10135741 [==============================] - 0s 0us/step\n"
          ]
        }
      ]
    },
    {
      "cell_type": "code",
      "metadata": {
        "id": "crFQWCx2eLsv"
      },
      "source": [
        "#Now loading data\n",
        "english_sentences=load_data(english_data)\n",
        "french_sentences=load_data(french_data)"
      ],
      "execution_count": null,
      "outputs": []
    },
    {
      "cell_type": "markdown",
      "metadata": {
        "id": "hw60fkIXgCB4"
      },
      "source": [
        "#Analysis of Dataset\n",
        "Let us look at a few examples in the dataset of both language"
      ]
    },
    {
      "cell_type": "code",
      "metadata": {
        "id": "9V_5yFcKgI-4",
        "colab": {
          "base_uri": "https://localhost:8080/"
        },
        "outputId": "a8961b02-382d-488d-a94a-776eadbdf2c7"
      },
      "source": [
        "for i in range(5):\n",
        "  print('Sample :',i)\n",
        "  print(english_sentences[i])\n",
        "  print(french_sentences[i])\n",
        "  print('-'*50)"
      ],
      "execution_count": null,
      "outputs": [
        {
          "output_type": "stream",
          "name": "stdout",
          "text": [
            "Sample : 0\n",
            "new jersey is sometimes quiet during autumn , and it is snowy in april .\n",
            "new jersey est parfois calme pendant l' automne , et il est neigeux en avril .\n",
            "--------------------------------------------------\n",
            "Sample : 1\n",
            "the united states is usually chilly during july , and it is usually freezing in november .\n",
            "les états-unis est généralement froid en juillet , et il gèle habituellement en novembre .\n",
            "--------------------------------------------------\n",
            "Sample : 2\n",
            "california is usually quiet during march , and it is usually hot in june .\n",
            "california est généralement calme en mars , et il est généralement chaud en juin .\n",
            "--------------------------------------------------\n",
            "Sample : 3\n",
            "the united states is sometimes mild during june , and it is cold in september .\n",
            "les états-unis est parfois légère en juin , et il fait froid en septembre .\n",
            "--------------------------------------------------\n",
            "Sample : 4\n",
            "your least liked fruit is the grape , but my least liked is the apple .\n",
            "votre moins aimé fruit est le raisin , mais mon moins aimé est la pomme .\n",
            "--------------------------------------------------\n"
          ]
        }
      ]
    },
    {
      "cell_type": "markdown",
      "metadata": {
        "id": "4EV6ri_Shkff"
      },
      "source": [
        "#Convert to Vocabulary\n",
        "The complexity of the problem is determined by the complexity of the vocabulary. A more complex vocabulary is a more complex problem. Let's look at the complexity of the dataset we'll be working with."
      ]
    },
    {
      "cell_type": "code",
      "metadata": {
        "id": "_3fQhJ5J2E4D"
      },
      "source": [
        "import collections   #storing data"
      ],
      "execution_count": null,
      "outputs": []
    },
    {
      "cell_type": "code",
      "metadata": {
        "id": "_U3gqv5WhOTy",
        "colab": {
          "base_uri": "https://localhost:8080/"
        },
        "outputId": "0a70fe6f-7557-4805-bd30-09cf87db0234"
      },
      "source": [
        "english_words_counter = collections.Counter([word for sentence in english_sentences for word in sentence.split()])  #counts the occurrences of each unique word in the english_sentences list\n",
        "french_words_counter = collections.Counter([word for sentence in french_sentences for word in sentence.split()])\n",
        "\n",
        "print('English Vocab:',len(english_words_counter))\n",
        "print('French Vocab:',len(french_words_counter))"
      ],
      "execution_count": null,
      "outputs": [
        {
          "output_type": "stream",
          "name": "stdout",
          "text": [
            "English Vocab: 227\n",
            "French Vocab: 355\n"
          ]
        }
      ]
    },
    {
      "cell_type": "markdown",
      "metadata": {
        "id": "lsl03eu-jW09"
      },
      "source": [
        "#Tokenize (IMPLEMENTATION)\n",
        "For a neural network to predict on text data, it first has to be turned into data it can understand. Text data like \"dog\" is a sequence of ASCII character encodings. Since a neural network is a series of multiplication and addition operations, the input data needs to be number(s).\n",
        "\n",
        "We can turn each character into a number or each word into a number. These are called character and word ids, respectively. Character ids are used for character level models that generate text predictions for each character. A word level model uses word ids that generate text predictions for each word. Word level models tend to learn better, since they are lower in complexity, so we'll use those.\n",
        "\n",
        "Turn each sentence into a sequence of words ids using Keras's Tokenizer function. Use this function to tokenize english_sentences and french_sentences in the cell below."
      ]
    },
    {
      "cell_type": "code",
      "metadata": {
        "id": "cYLtZ0WmjTjD"
      },
      "source": [
        "def tokenize(x):\n",
        "  tokenizer = Tokenizer()\n",
        "  tokenizer.fit_on_texts(x)\n",
        "  return tokenizer.texts_to_sequences(x), tokenizer"
      ],
      "execution_count": null,
      "outputs": []
    },
    {
      "cell_type": "code",
      "metadata": {
        "id": "lkhE2V5bjyg_",
        "colab": {
          "base_uri": "https://localhost:8080/"
        },
        "outputId": "164c2bf8-7b41-42b2-8b07-669a4650e11c"
      },
      "source": [
        "# Tokenize Sample output\n",
        "text_sentences = [\n",
        "    'The quick brown fox jumps over the lazy dog .',\n",
        "    'By Jove , my quick study of lexicography won a prize .',\n",
        "    'This is a short sentence .']\n",
        "\n",
        "text_tokenized, text_tokenizer = tokenize(text_sentences)\n",
        "print(text_tokenizer.word_index)\n",
        "print()\n",
        "\n",
        "for sample_i, (sent, token_sent) in enumerate(zip(text_sentences, text_tokenized)):\n",
        "  print('Sequence {} in x'.format(sample_i + 1))\n",
        "  print('  Input:  {}'.format(sent))\n",
        "  print('  Output: {}'.format(token_sent))"
      ],
      "execution_count": null,
      "outputs": [
        {
          "output_type": "stream",
          "name": "stdout",
          "text": [
            "{'the': 1, 'quick': 2, 'a': 3, 'brown': 4, 'fox': 5, 'jumps': 6, 'over': 7, 'lazy': 8, 'dog': 9, 'by': 10, 'jove': 11, 'my': 12, 'study': 13, 'of': 14, 'lexicography': 15, 'won': 16, 'prize': 17, 'this': 18, 'is': 19, 'short': 20, 'sentence': 21}\n",
            "\n",
            "Sequence 1 in x\n",
            "  Input:  The quick brown fox jumps over the lazy dog .\n",
            "  Output: [1, 2, 4, 5, 6, 7, 1, 8, 9]\n",
            "Sequence 2 in x\n",
            "  Input:  By Jove , my quick study of lexicography won a prize .\n",
            "  Output: [10, 11, 12, 2, 13, 14, 15, 16, 3, 17]\n",
            "Sequence 3 in x\n",
            "  Input:  This is a short sentence .\n",
            "  Output: [18, 19, 3, 20, 21]\n"
          ]
        }
      ]
    },
    {
      "cell_type": "markdown",
      "metadata": {
        "id": "cfiSCxQ7kRK3"
      },
      "source": [
        "#Padding (IMPLEMENTATION)\n",
        "When batching the sequence of word ids together, each sequence needs to be the same length. Since sentences are dynamic in length, we can add padding to the end of the sequences to make them the same length.\n",
        "\n",
        "Make sure all the English sequences have the same length and all the French sequences have the same length by adding padding to the end of each sequence using Keras's pad_sequences function."
      ]
    },
    {
      "cell_type": "code",
      "metadata": {
        "id": "6Daf_ngukNIS"
      },
      "source": [
        "def pad(x, length=None):\n",
        "  return pad_sequences(x, maxlen=length, padding='post')"
      ],
      "execution_count": null,
      "outputs": []
    },
    {
      "cell_type": "code",
      "metadata": {
        "id": "9LHAL30ik5x4",
        "colab": {
          "base_uri": "https://localhost:8080/"
        },
        "outputId": "7e940467-b730-4783-ba8d-8e159e8d1d52"
      },
      "source": [
        "def preprocess(x, y):\n",
        "    \"\"\"\n",
        "    Preprocess x and y\n",
        "    :param x: Feature List of sentences\n",
        "    :param y: Label List of sentences\n",
        "    :return: Tuple of (Preprocessed x, Preprocessed y, x tokenizer, y tokenizer)\n",
        "    \"\"\"\n",
        "    preprocess_x, x_tk = tokenize(x)\n",
        "    preprocess_y, y_tk = tokenize(y)\n",
        "\n",
        "    preprocess_x = pad(preprocess_x)\n",
        "    preprocess_y = pad(preprocess_y)\n",
        "\n",
        "    # Keras's sparse_categorical_crossentropy function requires the labels to be in 3 dimensions\n",
        "    #Expanding dimensions\n",
        "    preprocess_y = preprocess_y.reshape(*preprocess_y.shape, 1)\n",
        "\n",
        "    return preprocess_x, preprocess_y, x_tk, y_tk\n",
        "\n",
        "preproc_english_sentences, preproc_french_sentences, english_tokenizer, french_tokenizer =\\\n",
        "    preprocess(english_sentences, french_sentences)\n",
        "\n",
        "max_english_sequence_length = preproc_english_sentences.shape[1]\n",
        "max_french_sequence_length = preproc_french_sentences.shape[1]\n",
        "english_vocab_size = len(english_tokenizer.word_index)\n",
        "french_vocab_size = len(french_tokenizer.word_index)\n",
        "\n",
        "print('Data Preprocessed')\n",
        "print(\"Max English sentence length:\", max_english_sequence_length)\n",
        "print(\"Max French sentence length:\", max_french_sequence_length)\n",
        "print(\"English vocabulary size:\", english_vocab_size)\n",
        "print(\"French vocabulary size:\", french_vocab_size)"
      ],
      "execution_count": null,
      "outputs": [
        {
          "output_type": "stream",
          "name": "stdout",
          "text": [
            "Data Preprocessed\n",
            "Max English sentence length: 15\n",
            "Max French sentence length: 21\n",
            "English vocabulary size: 199\n",
            "French vocabulary size: 344\n"
          ]
        }
      ]
    },
    {
      "cell_type": "markdown",
      "metadata": {
        "id": "6n7i4rD_22_J"
      },
      "source": [
        "#Create Model\n",
        "\n",
        "In this section, you will experiment with various neural network architectures. You will begin by training four relatively simple architectures.\n",
        "\n",
        "Model 1 is a simple RNN\n",
        "Model 2 is a RNN with Embedding\n",
        "Model 3 is a Bidirectional RNN\n",
        "Model 4 is an optional Encoder-Decoder RNN\n",
        "After experimenting with the four simple architectures, you will construct a deeper architecture that is designed to outperform all four models."
      ]
    },
    {
      "cell_type": "markdown",
      "metadata": {
        "id": "TSLZv-O_3Bgq"
      },
      "source": [
        "## Ids Back to Text\n",
        "The neural network will be translating the input to words ids, which isn't the final form we want. We want the French translation. The function logits_to_text will bridge the gab between the logits from the neural network to the French translation. You'll be using this function to better understand the output of the neural network."
      ]
    },
    {
      "cell_type": "code",
      "metadata": {
        "id": "7BDBJKw22yJa"
      },
      "source": [
        "# logits often refer to the unnormalized log probabilities output by a model.\n",
        "#These logits can be passed through a softmax function to obtain normalized probabilities.\n",
        "def logits_to_text(logits, tokenizer):   #converts the predicted logits to text using the provided tokenizer\n",
        "  index_to_words = {id: word for word, id in tokenizer.word_index.items()}  # dict. that maps word indices to their corresponding words\n",
        "  index_to_words[0] = '<PAD>'\n",
        "  #Then selecting that label we reverse-enumerate the word from id\n",
        "  return ' '.join([index_to_words[prediction] for prediction in np.argmax(logits, 1)])"
      ],
      "execution_count": null,
      "outputs": []
    },
    {
      "cell_type": "markdown",
      "metadata": {
        "id": "Mbg5kGAY3cvT"
      },
      "source": [
        "![Model](https://github.com/tommytracey/AIND-Capstone/raw/8267d4fe72e48c595a0aff46eaf0a805fff0f36d/images/embedding.png)"
      ]
    },
    {
      "cell_type": "markdown",
      "metadata": {
        "id": "HN-RjzvH3rpp"
      },
      "source": [
        "#Building Model\n",
        "Here we use RNN model combined with GRU nodes for translation"
      ]
    },
    {
      "cell_type": "code",
      "metadata": {
        "id": "ta5yGpZ23amq"
      },
      "source": [
        "def embed_model(input_shape, output_sequence_length, english_vocab_size, french_vocab_size):\n",
        "    \"\"\"\n",
        "    Build and train a RNN model using word embedding on x and y\n",
        "    :param input_shape: Tuple of input shape\n",
        "    :param output_sequence_length: Length of output sequence\n",
        "    :param english_vocab_size: Number of unique English words in the dataset\n",
        "    :param french_vocab_size: Number of unique French words in the dataset\n",
        "    :return: Keras model built, but not trained\n",
        "    \"\"\"\n",
        "    # Hyperparameters\n",
        "    learning_rate = 0.005\n",
        "\n",
        "    #Build the layers\n",
        "    model = Sequential()\n",
        "    model.add(Embedding(english_vocab_size, 256, input_length=input_shape[1], input_shape=input_shape[1:]))  #takes in input sequences of length input_shape[1] and maps each integer in the input to a 256-dimensional vector\n",
        "    model.add(GRU(256, return_sequences=True))    #returns the full sequence of outputs\n",
        "    model.add(TimeDistributed(Dense(1024, activation='relu')))\n",
        "    model.add(Dropout(0.5))   #sets 50% of the input units to 0 during training to prevent overfitting\n",
        "    model.add(TimeDistributed(Dense(french_vocab_size, activation='softmax')))\n",
        "\n",
        "    # Compile model\n",
        "    model.compile(loss=sparse_categorical_crossentropy, optimizer=Adam(learning_rate), metrics=['accuracy'])\n",
        "    return model"
      ],
      "execution_count": null,
      "outputs": []
    },
    {
      "cell_type": "code",
      "metadata": {
        "id": "ubkWXBpu32Jh"
      },
      "source": [
        "# Reshaping the input to work with a basic RNN\n",
        "tmp_x = pad(preproc_english_sentences, preproc_french_sentences.shape[1])\n",
        "tmp_x = tmp_x.reshape((-1, preproc_french_sentences.shape[-2]))"
      ],
      "execution_count": null,
      "outputs": []
    },
    {
      "cell_type": "markdown",
      "metadata": {
        "id": "2NXsCzht3-1y"
      },
      "source": [
        "Finally calling the model function"
      ]
    },
    {
      "cell_type": "code",
      "metadata": {
        "id": "8B9QZgl738qJ"
      },
      "source": [
        "simple_rnn_model = embed_model(\n",
        "    tmp_x.shape,\n",
        "    preproc_french_sentences.shape[1],\n",
        "    len(english_tokenizer.word_index)+1,\n",
        "    len(french_tokenizer.word_index)+1)"
      ],
      "execution_count": null,
      "outputs": []
    },
    {
      "cell_type": "code",
      "metadata": {
        "id": "R-2dQpBQ4EZa",
        "colab": {
          "base_uri": "https://localhost:8080/"
        },
        "outputId": "c0ff955c-5f46-4d77-e1ae-8b1bb2dcc2c6"
      },
      "source": [
        "simple_rnn_model.summary()"
      ],
      "execution_count": null,
      "outputs": [
        {
          "output_type": "stream",
          "name": "stdout",
          "text": [
            "Model: \"sequential_2\"\n",
            "_________________________________________________________________\n",
            " Layer (type)                Output Shape              Param #   \n",
            "=================================================================\n",
            " embedding_2 (Embedding)     (None, 21, 256)           51200     \n",
            "                                                                 \n",
            " gru_2 (GRU)                 (None, 21, 256)           394752    \n",
            "                                                                 \n",
            " time_distributed_4 (TimeDis  (None, 21, 1024)         263168    \n",
            " tributed)                                                       \n",
            "                                                                 \n",
            " dropout_2 (Dropout)         (None, 21, 1024)          0         \n",
            "                                                                 \n",
            " time_distributed_5 (TimeDis  (None, 21, 345)          353625    \n",
            " tributed)                                                       \n",
            "                                                                 \n",
            "=================================================================\n",
            "Total params: 1,062,745\n",
            "Trainable params: 1,062,745\n",
            "Non-trainable params: 0\n",
            "_________________________________________________________________\n"
          ]
        }
      ]
    },
    {
      "cell_type": "markdown",
      "metadata": {
        "id": "tMDG7ttA4JGS"
      },
      "source": [
        "#Training the model\n",
        "Here we start to train the model and pass the english text and the max_sequence_length, with vocab size for both english and french text"
      ]
    },
    {
      "cell_type": "code",
      "metadata": {
        "id": "fY7037yU4HCp",
        "colab": {
          "base_uri": "https://localhost:8080/"
        },
        "outputId": "6c9e8f31-291d-4cbd-d5b5-be4eebf16782"
      },
      "source": [
        "history=simple_rnn_model.fit(tmp_x, preproc_french_sentences, batch_size=1024, epochs=20, validation_split=0.2)"
      ],
      "execution_count": null,
      "outputs": [
        {
          "output_type": "stream",
          "name": "stdout",
          "text": [
            "Epoch 1/20\n",
            "108/108 [==============================] - 9s 65ms/step - loss: 1.4306 - accuracy: 0.6658 - val_loss: 0.5313 - val_accuracy: 0.8285\n",
            "Epoch 2/20\n",
            "108/108 [==============================] - 6s 60ms/step - loss: 0.4405 - accuracy: 0.8551 - val_loss: 0.3183 - val_accuracy: 0.8930\n",
            "Epoch 3/20\n",
            "108/108 [==============================] - 7s 61ms/step - loss: 0.3085 - accuracy: 0.8971 - val_loss: 0.2545 - val_accuracy: 0.9133\n",
            "Epoch 4/20\n",
            "108/108 [==============================] - 6s 60ms/step - loss: 0.2550 - accuracy: 0.9140 - val_loss: 0.2233 - val_accuracy: 0.9224\n",
            "Epoch 5/20\n",
            "108/108 [==============================] - 7s 60ms/step - loss: 0.2260 - accuracy: 0.9226 - val_loss: 0.2069 - val_accuracy: 0.9283\n",
            "Epoch 6/20\n",
            "108/108 [==============================] - 6s 59ms/step - loss: 0.2109 - accuracy: 0.9269 - val_loss: 0.1942 - val_accuracy: 0.9322\n",
            "Epoch 7/20\n",
            "108/108 [==============================] - 6s 60ms/step - loss: 0.1982 - accuracy: 0.9305 - val_loss: 0.1888 - val_accuracy: 0.9335\n",
            "Epoch 8/20\n",
            "108/108 [==============================] - 6s 59ms/step - loss: 0.1940 - accuracy: 0.9317 - val_loss: 0.1868 - val_accuracy: 0.9344\n",
            "Epoch 9/20\n",
            "108/108 [==============================] - 6s 59ms/step - loss: 0.1861 - accuracy: 0.9339 - val_loss: 0.1833 - val_accuracy: 0.9356\n",
            "Epoch 10/20\n",
            "108/108 [==============================] - 6s 59ms/step - loss: 0.1810 - accuracy: 0.9355 - val_loss: 0.1825 - val_accuracy: 0.9353\n",
            "Epoch 11/20\n",
            "108/108 [==============================] - 6s 58ms/step - loss: 0.1789 - accuracy: 0.9358 - val_loss: 0.1805 - val_accuracy: 0.9367\n",
            "Epoch 12/20\n",
            "108/108 [==============================] - 6s 59ms/step - loss: 0.1768 - accuracy: 0.9366 - val_loss: 0.1836 - val_accuracy: 0.9360\n",
            "Epoch 13/20\n",
            "108/108 [==============================] - 6s 58ms/step - loss: 0.1723 - accuracy: 0.9376 - val_loss: 0.1769 - val_accuracy: 0.9376\n",
            "Epoch 14/20\n",
            "108/108 [==============================] - 6s 58ms/step - loss: 0.1741 - accuracy: 0.9371 - val_loss: 0.1799 - val_accuracy: 0.9371\n",
            "Epoch 15/20\n",
            "108/108 [==============================] - 6s 58ms/step - loss: 0.1691 - accuracy: 0.9384 - val_loss: 0.1775 - val_accuracy: 0.9377\n",
            "Epoch 16/20\n",
            "108/108 [==============================] - 6s 59ms/step - loss: 0.1658 - accuracy: 0.9393 - val_loss: 0.1758 - val_accuracy: 0.9389\n",
            "Epoch 17/20\n",
            "108/108 [==============================] - 6s 59ms/step - loss: 0.1681 - accuracy: 0.9389 - val_loss: 0.1888 - val_accuracy: 0.9347\n",
            "Epoch 18/20\n",
            "108/108 [==============================] - 6s 58ms/step - loss: 0.1754 - accuracy: 0.9369 - val_loss: 0.1821 - val_accuracy: 0.9372\n",
            "Epoch 19/20\n",
            "108/108 [==============================] - 6s 59ms/step - loss: 0.1703 - accuracy: 0.9381 - val_loss: 0.1808 - val_accuracy: 0.9380\n",
            "Epoch 20/20\n",
            "108/108 [==============================] - 6s 59ms/step - loss: 0.1638 - accuracy: 0.9397 - val_loss: 0.1798 - val_accuracy: 0.9384\n"
          ]
        }
      ]
    },
    {
      "cell_type": "code",
      "metadata": {
        "id": "Um2UZ6EbSge9"
      },
      "source": [
        "simple_rnn_model.save('model.h5')"
      ],
      "execution_count": null,
      "outputs": []
    },
    {
      "cell_type": "markdown",
      "metadata": {
        "id": "Lg0KtRlXBHPE"
      },
      "source": [
        "#Arbitrary Predictions\n",
        "Performing predictions on the models using User Input."
      ]
    },
    {
      "cell_type": "code",
      "metadata": {
        "id": "ys8_8FhABNfx"
      },
      "source": [
        "def final_predictions(text):\n",
        "  y_id_to_word = {value: key for key, value in french_tokenizer.word_index.items()}\n",
        "  y_id_to_word[0] = '<PAD>'\n",
        "\n",
        "  sentence = [english_tokenizer.word_index[word] for word in text.split()]\n",
        "  sentence = pad_sequences([sentence], maxlen=preproc_french_sentences.shape[-2], padding='post')\n",
        "\n",
        "  print(sentence.shape)\n",
        "  print(logits_to_text(simple_rnn_model.predict(sentence[:1])[0], french_tokenizer))"
      ],
      "execution_count": null,
      "outputs": []
    },
    {
      "cell_type": "markdown",
      "metadata": {
        "id": "aNJp0UldE2g6"
      },
      "source": [
        "#User input\n",
        "Enter your input here to get predictions"
      ]
    },
    {
      "cell_type": "code",
      "metadata": {
        "id": "7XlW4fK_HndB"
      },
      "source": [
        "import re"
      ],
      "execution_count": null,
      "outputs": []
    },
    {
      "cell_type": "code",
      "metadata": {
        "id": "pJp2gkLYE0zZ",
        "colab": {
          "base_uri": "https://localhost:8080/"
        },
        "outputId": "072396ca-dc12-40e1-9c9c-345e1620a388"
      },
      "source": [
        "txt=input().lower()\n",
        "final_predictions(re.sub(r'[^\\w]', ' ', txt))"
      ],
      "execution_count": null,
      "outputs": [
        {
          "output_type": "stream",
          "name": "stdout",
          "text": [
            "your least liked fruit is the grape , but my least liked is the apple\n",
            "(1, 21)\n",
            "1/1 [==============================] - 0s 356ms/step\n",
            "votre fruit aimé fruit est la raisin mais mon moins aimé est la pomme <PAD> <PAD> <PAD> <PAD> <PAD> <PAD> <PAD>\n"
          ]
        }
      ]
    },
    {
      "cell_type": "code",
      "source": [],
      "metadata": {
        "id": "sg_USoGpQDRR"
      },
      "execution_count": null,
      "outputs": []
    }
  ]
}